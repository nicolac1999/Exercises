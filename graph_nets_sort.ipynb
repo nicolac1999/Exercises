{
 "cells": [
  {
   "cell_type": "markdown",
   "metadata": {},
   "source": [
    "#### Sort a list of elements\n",
    "\n",
    "The purpose of the notebook is to train graph network to learn to sort a list of elements.\n",
    "\n"
   ]
  },
  {
   "cell_type": "code",
   "execution_count": 1,
   "metadata": {},
   "outputs": [],
   "source": [
    "import time\n",
    "\n",
    "\n",
    "from graph_nets import utils_np\n",
    "from graph_nets import utils_tf\n",
    "from graph_nets.demos_tf2 import models\n",
    "import matplotlib.pyplot as plt\n",
    "import numpy as np\n",
    "\n",
    "import sonnet as snt\n",
    "import tensorflow as tf\n",
    "\n",
    "\n",
    "\n",
    "SEED = 1\n",
    "np.random.seed(SEED)\n",
    "tf.random.set_seed(SEED)"
   ]
  },
  {
   "cell_type": "code",
   "execution_count": null,
   "metadata": {},
   "outputs": [],
   "source": [
    "# tf.argsort()\n",
    "\n",
    "# argsort tells in what order to select elements from the array to get a sorted result\n",
    "values = [1, 10, 26.9, 2.8, 166.32, 62.3]\n",
    "sort_order = tf.argsort(values)\n",
    "#print(sort_order)\n",
    "#[0 3 1 2 5 4]\n",
    "# which means take the element in position 0 (1)\n",
    "# then take the one in position 3 (2.8)\n",
    "# then take the one in position 1 (10)"
   ]
  },
  {
   "cell_type": "code",
   "execution_count": 75,
   "metadata": {},
   "outputs": [],
   "source": [
    "def create_graph_dicts_tf(num_examples, num_elements_min_max):\n",
    "  \"\"\"Generate graphs for training.\n",
    "\n",
    "  Args:\n",
    "    num_examples: total number of graphs to generate\n",
    "    num_elements_min_max: a 2-tuple with the minimum and maximum number of\n",
    "      values allowable in a graph. The number of values for a graph is\n",
    "      uniformly sampled withing this range. The upper bound is exclusive, and\n",
    "      should be at least 2 more than the lower bound.\n",
    "\n",
    "  Returns:\n",
    "    inputs: contains the generated random numbers as node values.\n",
    "    sort_indices: contains the sorting indices as nodes. Concretely\n",
    "      inputs.nodes[sort_indices.nodes] will be a sorted array.\n",
    "    ranks: the rank of each value in inputs normalized to the range [0, 1].\n",
    "  \"\"\"\n",
    "  num_elements = tf.random.uniform(\n",
    "      [num_examples],\n",
    "      minval=num_elements_min_max[0],\n",
    "      maxval=num_elements_min_max[1],\n",
    "      dtype=tf.int32)\n",
    "  inputs_graphs = []\n",
    "  sort_indices_graphs = []\n",
    "  ranks_graphs = []\n",
    "  for i in range(num_examples):\n",
    "    values = tf.random.uniform(shape=[num_elements[i]])#generate random features for each node of the graph\n",
    "    sort_indices = tf.cast(\n",
    "        tf.argsort(values, axis=-1), tf.float32)\n",
    "    ranks = tf.cast(\n",
    "        tf.argsort(sort_indices, axis=-1), tf.float32) / (\n",
    "            tf.cast(num_elements[i], tf.float32) - 1.0)\n",
    "    inputs_graphs.append({\"nodes\": values[:, None]})\n",
    "    sort_indices_graphs.append({\"nodes\": sort_indices[:, None]})\n",
    "    ranks_graphs.append({\"nodes\": ranks[:, None]})\n",
    "  return inputs_graphs, sort_indices_graphs, ranks_graphs"
   ]
  },
  {
   "cell_type": "code",
   "execution_count": 76,
   "metadata": {},
   "outputs": [
    {
     "name": "stdout",
     "output_type": "stream",
     "text": [
      "The number of graphs creates is : 3\n",
      "type <class 'list'>\n",
      "type element <class 'dict'>\n",
      "the first graph is [[0.95214367]\n",
      " [0.7892797 ]\n",
      " [0.3518337 ]\n",
      " [0.04095459]\n",
      " [0.61420333]\n",
      " [0.8480252 ]]\n",
      "the sorted indices are [[3.]\n",
      " [2.]\n",
      " [4.]\n",
      " [1.]\n",
      " [5.]\n",
      " [0.]]\n"
     ]
    }
   ],
   "source": [
    "graphs, indices, ranks =create_graph_dicts_tf(3,(3,8))\n",
    "print(f'The number of graphs creates is : {len(graphs)}')\n",
    "print(f'type {type(graphs)}')\n",
    "print(f'type element {type(graphs[0])}')\n",
    "print(f'the first graph is {graphs[0][\"nodes\"]}')\n",
    "print(f'the sorted indices are {indices[0][\"nodes\"]}')"
   ]
  },
  {
   "cell_type": "code",
   "execution_count": 80,
   "metadata": {},
   "outputs": [],
   "source": [
    "def create_linked_list_target(batch_size, input_graphs):\n",
    "  \"\"\"Creates linked list targets.\n",
    "\n",
    "  Returns a graph with the same number of nodes as `input_graph`. Each node\n",
    "  contains a 2d vector with targets for a 1-class classification where only one\n",
    "  node is `True`, the smallest value in the array. The vector contains two\n",
    "  values: [prob_true, prob_false].\n",
    "  It also contains edges connecting all nodes. These are again 2d vectors with\n",
    "  softmax targets [prob_true, prob_false]. An edge is True\n",
    "  if n+1 is the element immediately after n in the sorted list.\n",
    "\n",
    "  Args:\n",
    "    batch_size: batch size for the `input_graphs`.\n",
    "    input_graphs: a `graphs.GraphsTuple` which contains a batch of inputs.\n",
    "\n",
    "  Returns:\n",
    "    A `graphs.GraphsTuple` with the targets, which encode the linked list.\n",
    "  \"\"\"\n",
    "  target_graphs = []\n",
    "  for i in range(batch_size):\n",
    "    input_graph = utils_tf.get_graph(input_graphs, i)\n",
    "    num_elements = tf.shape(input_graph.nodes)[0]\n",
    "    si = tf.cast(tf.squeeze(input_graph.nodes), tf.int32)\n",
    "    nodes = tf.reshape(tf.one_hot(si[:1], num_elements), (-1, 1))\n",
    "    x = tf.stack((si[:-1], si[1:]))[None]\n",
    "    y = tf.stack(\n",
    "        (input_graph.senders, input_graph.receivers), axis=1)[:, :, None]\n",
    "    edges = tf.reshape(\n",
    "        tf.cast(\n",
    "            tf.reduce_any(tf.reduce_all(tf.equal(x, y), axis=1), axis=1),\n",
    "            tf.float32), (-1, 1))\n",
    "    target_graphs.append(input_graph._replace(nodes=nodes, edges=edges))\n",
    "  return utils_tf.concat(target_graphs, axis=0)"
   ]
  },
  {
   "cell_type": "code",
   "execution_count": 106,
   "metadata": {},
   "outputs": [],
   "source": [
    "## graphs having only nodes\n",
    "inputs, sort_indices, ranks = create_graph_dicts_tf(\n",
    "      1, (3,8)) \n",
    "\n",
    "## transform disctionary in graphs tuple\n",
    "inputs = utils_tf.data_dicts_to_graphs_tuple(inputs)\n",
    "sort_indices = utils_tf.data_dicts_to_graphs_tuple(sort_indices)\n",
    "\n",
    "## add edges for create a fully connected graph\n",
    "inputs = utils_tf.fully_connect_graph_dynamic(inputs)\n",
    "sort_indices = utils_tf.fully_connect_graph_dynamic(sort_indices)\n",
    "\n",
    "targets = create_linked_list_target(1, sort_indices)"
   ]
  },
  {
   "cell_type": "code",
   "execution_count": 109,
   "metadata": {},
   "outputs": [
    {
     "data": {
      "text/plain": [
       "GraphsTuple(nodes=<tf.Tensor: shape=(4, 1), dtype=float32, numpy=\n",
       "array([[2.],\n",
       "       [1.],\n",
       "       [3.],\n",
       "       [0.]], dtype=float32)>, edges=None, receivers=<tf.Tensor: shape=(16,), dtype=int32, numpy=array([0, 1, 2, 3, 0, 1, 2, 3, 0, 1, 2, 3, 0, 1, 2, 3])>, senders=<tf.Tensor: shape=(16,), dtype=int32, numpy=array([0, 0, 0, 0, 1, 1, 1, 1, 2, 2, 2, 2, 3, 3, 3, 3])>, globals=None, n_node=<tf.Tensor: shape=(1,), dtype=int32, numpy=array([4])>, n_edge=<tf.Tensor: shape=(1,), dtype=int32, numpy=array([16])>)"
      ]
     },
     "execution_count": 109,
     "metadata": {},
     "output_type": "execute_result"
    }
   ],
   "source": [
    "sort_indices\n",
    "## edge that will be put to 1 are:\n",
    "## edge 2->1\n",
    "## edge 1->3\n",
    "## edge 3->0"
   ]
  },
  {
   "cell_type": "code",
   "execution_count": 107,
   "metadata": {},
   "outputs": [
    {
     "data": {
      "text/plain": [
       "<tf.Tensor: shape=(4, 1), dtype=float32, numpy=\n",
       "array([[0.7760526 ],\n",
       "       [0.47332907],\n",
       "       [0.21168268],\n",
       "       [0.7466848 ]], dtype=float32)>"
      ]
     },
     "execution_count": 107,
     "metadata": {},
     "output_type": "execute_result"
    }
   ],
   "source": [
    "inputs.nodes"
   ]
  },
  {
   "cell_type": "code",
   "execution_count": 108,
   "metadata": {},
   "outputs": [
    {
     "data": {
      "text/plain": [
       "GraphsTuple(nodes=<tf.Tensor: shape=(4, 1), dtype=float32, numpy=\n",
       "array([[0.],\n",
       "       [0.],\n",
       "       [1.],\n",
       "       [0.]], dtype=float32)>, edges=<tf.Tensor: shape=(16, 1), dtype=float32, numpy=\n",
       "array([[0.],\n",
       "       [0.],\n",
       "       [0.],\n",
       "       [0.],\n",
       "       [0.],\n",
       "       [0.],\n",
       "       [0.],\n",
       "       [1.],\n",
       "       [0.],\n",
       "       [1.],\n",
       "       [0.],\n",
       "       [0.],\n",
       "       [1.],\n",
       "       [0.],\n",
       "       [0.],\n",
       "       [0.]], dtype=float32)>, receivers=<tf.Tensor: shape=(16,), dtype=int32, numpy=array([0, 1, 2, 3, 0, 1, 2, 3, 0, 1, 2, 3, 0, 1, 2, 3])>, senders=<tf.Tensor: shape=(16,), dtype=int32, numpy=array([0, 0, 0, 0, 1, 1, 1, 1, 2, 2, 2, 2, 3, 3, 3, 3])>, globals=None, n_node=<tf.Tensor: shape=(1,), dtype=int32, numpy=array([4])>, n_edge=<tf.Tensor: shape=(1,), dtype=int32, numpy=array([16])>)"
      ]
     },
     "execution_count": 108,
     "metadata": {},
     "output_type": "execute_result"
    }
   ],
   "source": [
    "targets\n",
    "## the node setted to 1 is the smallest one\n",
    "## the edges setted to 1 are \n",
    "## edge 2->1\n",
    "## edge 1->3\n",
    "## edge 3->0"
   ]
  },
  {
   "cell_type": "code",
   "execution_count": 111,
   "metadata": {},
   "outputs": [],
   "source": [
    "## each node and each edge becomes a 2d vector [prob_true, prob_false]\n",
    "nodes = tf.concat((targets.nodes, 1.0 - targets.nodes), axis=1)\n",
    "edges = tf.concat((targets.edges, 1.0 - targets.edges), axis=1)"
   ]
  },
  {
   "cell_type": "code",
   "execution_count": 112,
   "metadata": {},
   "outputs": [
    {
     "data": {
      "text/plain": [
       "<tf.Tensor: shape=(4, 2), dtype=float32, numpy=\n",
       "array([[0., 1.],\n",
       "       [0., 1.],\n",
       "       [1., 0.],\n",
       "       [0., 1.]], dtype=float32)>"
      ]
     },
     "execution_count": 112,
     "metadata": {},
     "output_type": "execute_result"
    }
   ],
   "source": [
    "nodes"
   ]
  },
  {
   "cell_type": "code",
   "execution_count": 113,
   "metadata": {},
   "outputs": [
    {
     "data": {
      "text/plain": [
       "<tf.Tensor: shape=(16, 2), dtype=float32, numpy=\n",
       "array([[0., 1.],\n",
       "       [0., 1.],\n",
       "       [0., 1.],\n",
       "       [0., 1.],\n",
       "       [0., 1.],\n",
       "       [0., 1.],\n",
       "       [0., 1.],\n",
       "       [1., 0.],\n",
       "       [0., 1.],\n",
       "       [1., 0.],\n",
       "       [0., 1.],\n",
       "       [0., 1.],\n",
       "       [1., 0.],\n",
       "       [0., 1.],\n",
       "       [0., 1.],\n",
       "       [0., 1.]], dtype=float32)>"
      ]
     },
     "execution_count": 113,
     "metadata": {},
     "output_type": "execute_result"
    }
   ],
   "source": [
    "edges"
   ]
  },
  {
   "cell_type": "code",
   "execution_count": 114,
   "metadata": {},
   "outputs": [],
   "source": [
    "def create_data(batch_size, num_elements_min_max):\n",
    "  \"\"\"Returns graphs containing the inputs and targets for classification.\n",
    "\n",
    "  Refer to create_data_dicts_tf and create_linked_list_target for more details.\n",
    "\n",
    "  Args:\n",
    "    batch_size: batch size for the `input_graphs`.\n",
    "    num_elements_min_max: a 2-`tuple` of `int`s which define the [lower, upper)\n",
    "      range of the number of elements per list.\n",
    "\n",
    "  Returns:\n",
    "    inputs: a `graphs.GraphsTuple` which contains the input list as a graph.\n",
    "    targets: a `graphs.GraphsTuple` which contains the target as a graph.\n",
    "    sort_indices: a `graphs.GraphsTuple` which contains the sort indices of\n",
    "      the list elements a graph.\n",
    "    ranks: a `graphs.GraphsTuple` which contains the ranks of the list\n",
    "      elements as a graph.\n",
    "  \"\"\"\n",
    "  inputs, sort_indices, ranks = create_graph_dicts_tf(\n",
    "      batch_size, num_elements_min_max)\n",
    "  inputs = utils_tf.data_dicts_to_graphs_tuple(inputs)\n",
    "  sort_indices = utils_tf.data_dicts_to_graphs_tuple(sort_indices)\n",
    "  ranks = utils_tf.data_dicts_to_graphs_tuple(ranks)\n",
    "\n",
    "  inputs = utils_tf.fully_connect_graph_dynamic(inputs)\n",
    "  sort_indices = utils_tf.fully_connect_graph_dynamic(sort_indices)\n",
    "  ranks = utils_tf.fully_connect_graph_dynamic(ranks)\n",
    "\n",
    "  targets = create_linked_list_target(batch_size, sort_indices)\n",
    "  nodes = tf.concat((targets.nodes, 1.0 - targets.nodes), axis=1)\n",
    "  edges = tf.concat((targets.edges, 1.0 - targets.edges), axis=1)\n",
    "  targets = targets._replace(nodes=nodes, edges=edges)\n",
    "\n",
    "  return inputs, targets, sort_indices, ranks"
   ]
  },
  {
   "cell_type": "code",
   "execution_count": 141,
   "metadata": {},
   "outputs": [],
   "source": [
    "def plot_linked_list(ax, graph, sort_indices):\n",
    "  \"\"\"Plot a networkx graph containing weights for the linked list probability.\"\"\"\n",
    "  nd = len(graph.nodes())\n",
    "  probs = np.zeros((nd, nd))\n",
    "  for edge in graph.edges(data=True):\n",
    "\n",
    "    # edge[0] sender\n",
    "    # edge[1] receiver\n",
    "    # edge[2]['features'][0] probability of the edge to be true \n",
    "\n",
    "    probs[edge[0], edge[1]] = edge[2][\"features\"][0]\n",
    "    \n",
    "  ax.matshow(probs[sort_indices][:, sort_indices], cmap=\"viridis\")\n",
    "  ax.grid(False)"
   ]
  },
  {
   "cell_type": "code",
   "execution_count": 134,
   "metadata": {},
   "outputs": [
    {
     "data": {
      "text/plain": [
       "OutMultiEdgeDataView([(0, 0), (0, 1), (0, 2), (0, 3), (0, 4), (0, 5), (0, 6), (1, 0), (1, 1), (1, 2), (1, 3), (1, 4), (1, 5), (1, 6), (2, 0), (2, 1), (2, 2), (2, 3), (2, 4), (2, 5), (2, 6), (3, 0), (3, 1), (3, 2), (3, 3), (3, 4), (3, 5), (3, 6), (4, 0), (4, 1), (4, 2), (4, 3), (4, 4), (4, 5), (4, 6), (5, 0), (5, 1), (5, 2), (5, 3), (5, 4), (5, 5), (5, 6), (6, 0), (6, 1), (6, 2), (6, 3), (6, 4), (6, 5), (6, 6)])"
      ]
     },
     "execution_count": 134,
     "metadata": {},
     "output_type": "execute_result"
    }
   ],
   "source": [
    "utils_np.graphs_tuple_to_networkxs(targets)[0].edges()"
   ]
  },
  {
   "cell_type": "code",
   "execution_count": 140,
   "metadata": {},
   "outputs": [
    {
     "data": {
      "text/plain": [
       "OutMultiEdgeDataView([(0, 0, OrderedDict([('index', 0), ('features', array([0., 1.], dtype=float32))])), (0, 1, OrderedDict([('index', 1), ('features', array([0., 1.], dtype=float32))])), (0, 2, OrderedDict([('index', 2), ('features', array([0., 1.], dtype=float32))])), (0, 3, OrderedDict([('index', 3), ('features', array([0., 1.], dtype=float32))])), (0, 4, OrderedDict([('index', 4), ('features', array([1., 0.], dtype=float32))])), (0, 5, OrderedDict([('index', 5), ('features', array([0., 1.], dtype=float32))])), (0, 6, OrderedDict([('index', 6), ('features', array([0., 1.], dtype=float32))])), (1, 0, OrderedDict([('index', 7), ('features', array([0., 1.], dtype=float32))])), (1, 1, OrderedDict([('index', 8), ('features', array([0., 1.], dtype=float32))])), (1, 2, OrderedDict([('index', 9), ('features', array([0., 1.], dtype=float32))])), (1, 3, OrderedDict([('index', 10), ('features', array([0., 1.], dtype=float32))])), (1, 4, OrderedDict([('index', 11), ('features', array([0., 1.], dtype=float32))])), (1, 5, OrderedDict([('index', 12), ('features', array([0., 1.], dtype=float32))])), (1, 6, OrderedDict([('index', 13), ('features', array([1., 0.], dtype=float32))])), (2, 0, OrderedDict([('index', 14), ('features', array([0., 1.], dtype=float32))])), (2, 1, OrderedDict([('index', 15), ('features', array([0., 1.], dtype=float32))])), (2, 2, OrderedDict([('index', 16), ('features', array([0., 1.], dtype=float32))])), (2, 3, OrderedDict([('index', 17), ('features', array([1., 0.], dtype=float32))])), (2, 4, OrderedDict([('index', 18), ('features', array([0., 1.], dtype=float32))])), (2, 5, OrderedDict([('index', 19), ('features', array([0., 1.], dtype=float32))])), (2, 6, OrderedDict([('index', 20), ('features', array([0., 1.], dtype=float32))])), (3, 0, OrderedDict([('index', 21), ('features', array([0., 1.], dtype=float32))])), (3, 1, OrderedDict([('index', 22), ('features', array([0., 1.], dtype=float32))])), (3, 2, OrderedDict([('index', 23), ('features', array([0., 1.], dtype=float32))])), (3, 3, OrderedDict([('index', 24), ('features', array([0., 1.], dtype=float32))])), (3, 4, OrderedDict([('index', 25), ('features', array([0., 1.], dtype=float32))])), (3, 5, OrderedDict([('index', 26), ('features', array([1., 0.], dtype=float32))])), (3, 6, OrderedDict([('index', 27), ('features', array([0., 1.], dtype=float32))])), (4, 0, OrderedDict([('index', 28), ('features', array([0., 1.], dtype=float32))])), (4, 1, OrderedDict([('index', 29), ('features', array([0., 1.], dtype=float32))])), (4, 2, OrderedDict([('index', 30), ('features', array([0., 1.], dtype=float32))])), (4, 3, OrderedDict([('index', 31), ('features', array([0., 1.], dtype=float32))])), (4, 4, OrderedDict([('index', 32), ('features', array([0., 1.], dtype=float32))])), (4, 5, OrderedDict([('index', 33), ('features', array([0., 1.], dtype=float32))])), (4, 6, OrderedDict([('index', 34), ('features', array([0., 1.], dtype=float32))])), (5, 0, OrderedDict([('index', 35), ('features', array([0., 1.], dtype=float32))])), (5, 1, OrderedDict([('index', 36), ('features', array([1., 0.], dtype=float32))])), (5, 2, OrderedDict([('index', 37), ('features', array([0., 1.], dtype=float32))])), (5, 3, OrderedDict([('index', 38), ('features', array([0., 1.], dtype=float32))])), (5, 4, OrderedDict([('index', 39), ('features', array([0., 1.], dtype=float32))])), (5, 5, OrderedDict([('index', 40), ('features', array([0., 1.], dtype=float32))])), (5, 6, OrderedDict([('index', 41), ('features', array([0., 1.], dtype=float32))])), (6, 0, OrderedDict([('index', 42), ('features', array([1., 0.], dtype=float32))])), (6, 1, OrderedDict([('index', 43), ('features', array([0., 1.], dtype=float32))])), (6, 2, OrderedDict([('index', 44), ('features', array([0., 1.], dtype=float32))])), (6, 3, OrderedDict([('index', 45), ('features', array([0., 1.], dtype=float32))])), (6, 4, OrderedDict([('index', 46), ('features', array([0., 1.], dtype=float32))])), (6, 5, OrderedDict([('index', 47), ('features', array([0., 1.], dtype=float32))])), (6, 6, OrderedDict([('index', 48), ('features', array([0., 1.], dtype=float32))]))])"
      ]
     },
     "execution_count": 140,
     "metadata": {},
     "output_type": "execute_result"
    }
   ],
   "source": [
    "utils_np.graphs_tuple_to_networkxs(targets)[0].edges(data=True)"
   ]
  },
  {
   "cell_type": "code",
   "execution_count": 142,
   "metadata": {},
   "outputs": [
    {
     "name": "stdout",
     "output_type": "stream",
     "text": [
      "[[0.14408815]\n",
      " [0.6758317 ]\n",
      " [0.9958906 ]\n",
      " [0.24030685]\n",
      " [0.47656298]\n",
      " [0.8461859 ]]\n",
      "[0 3 4 1 5 2]\n"
     ]
    },
    {
     "data": {
      "image/png": "[encoded data removed]",
      "text/plain": [
       "<Figure size 288x288 with 1 Axes>"
      ]
     },
     "metadata": {
      "needs_background": "light"
     },
     "output_type": "display_data"
    },
    {
     "data": {
      "image/png": "[encoded data removed]",
      "text/plain": [
       "<Figure size 720x144 with 3 Axes>"
      ]
     },
     "metadata": {
      "needs_background": "light"
     },
     "output_type": "display_data"
    }
   ],
   "source": [
    "num_elements_min_max = (5, 10)\n",
    "\n",
    "inputs, targets, sort_indices, ranks = create_data(\n",
    "    1, num_elements_min_max)\n",
    "\n",
    "inputs_nodes = inputs.nodes.numpy()\n",
    "targets = utils_tf.nest_to_numpy(targets)\n",
    "sort_indices_nodes = sort_indices.nodes.numpy()\n",
    "ranks_nodes = ranks.nodes.numpy()\n",
    "\n",
    "sort_indices = np.squeeze(sort_indices_nodes).astype(int)## squeeze the 2d array in 1d array\n",
    "print(inputs_nodes)\n",
    "print(sort_indices)\n",
    "\n",
    "# Plot sort linked lists.\n",
    "# The matrix plots show each element from the sorted list (rows), and which\n",
    "# element they link to as next largest (columns). Ground truth is a diagonal\n",
    "# offset toward the upper-right by one.\n",
    "\n",
    "fig = plt.figure(1, figsize=(4, 4))\n",
    "fig.clf()\n",
    "ax = fig.add_subplot(1, 1, 1)\n",
    "plot_linked_list(ax,\n",
    "                 utils_np.graphs_tuple_to_networkxs(targets)[0], sort_indices)\n",
    "ax.set_title(\"Element-to-element links for sorted elements\")\n",
    "ax.set_axis_off()\n",
    "\n",
    "fig = plt.figure(2, figsize=(10, 2))\n",
    "fig.clf()\n",
    "ax1 = fig.add_subplot(1, 3, 1)\n",
    "ax2 = fig.add_subplot(1, 3, 2)\n",
    "ax3 = fig.add_subplot(1, 3, 3)\n",
    "\n",
    "i = 0\n",
    "num_elements = ranks_nodes.shape[0]\n",
    "inputs = np.squeeze(inputs_nodes)\n",
    "ranks = np.squeeze(ranks_nodes * (num_elements - 1.0)).astype(int)\n",
    "x = np.arange(inputs.shape[0])\n",
    "\n",
    "ax1.set_title(\"Inputs\")\n",
    "ax1.barh(x, inputs, color=\"b\")\n",
    "ax1.set_xlim(-0.01, 1.01)\n",
    "\n",
    "ax2.set_title(\"Sorted\")\n",
    "ax2.barh(x, inputs[sort_indices], color=\"k\")\n",
    "ax2.set_xlim(-0.01, 1.01)\n",
    "\n",
    "ax3.set_title(\"Ranks\")\n",
    "ax3.barh(x, ranks, color=\"r\")\n",
    "_ = ax3.set_xlim(0, len(ranks) + 0.5)"
   ]
  },
  {
   "cell_type": "code",
   "execution_count": null,
   "metadata": {},
   "outputs": [],
   "source": []
  }
 ],
 "metadata": {
  "interpreter": {
   "hash": "bff2f86cb060d798c12e3e1ad1b49fa4aed81f439e414222509aed9f9b8b5f97"
  },
  "kernelspec": {
   "display_name": "Python 3.9.6 64-bit",
   "language": "python",
   "name": "python3"
  },
  "language_info": {
   "codemirror_mode": {
    "name": "ipython",
    "version": 3
   },
   "file_extension": ".py",
   "mimetype": "text/x-python",
   "name": "python",
   "nbconvert_exporter": "python",
   "pygments_lexer": "ipython3",
   "version": "3.9.6"
  },
  "orig_nbformat": 4
 },
 "nbformat": 4,
 "nbformat_minor": 2
}
