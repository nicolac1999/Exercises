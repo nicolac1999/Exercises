{
 "cells": [
  {
   "cell_type": "markdown",
   "metadata": {},
   "source": [
    "In this notebook Graph Nets library is used to learn to predict the motion of a set of masses conncted by springs.\n",
    "\n",
    "The network is trained to predict the behaviour of a chain of five masses, connected by identical springs. The first and last masses are fixed; the others are subject to gravity."
   ]
  },
  {
   "cell_type": "code",
   "execution_count": 10,
   "metadata": {},
   "outputs": [],
   "source": [
    "import time\n",
    "\n",
    "from graph_nets import blocks\n",
    "from graph_nets import utils_tf\n",
    "from graph_nets.demos_tf2 import models\n",
    "from matplotlib import pyplot as plt\n",
    "import numpy as np\n",
    "import sonnet as snt\n",
    "import tensorflow as tf\n",
    "import torch\n",
    "\n",
    "import seaborn as sns"
   ]
  },
  {
   "cell_type": "code",
   "execution_count": 5,
   "metadata": {},
   "outputs": [],
   "source": [
    "def base_graph(n, d):\n",
    "  \"\"\"Define a basic mass-spring system graph structure.\n",
    "\n",
    "  These are n masses (1kg) connected by springs in a chain-like structure. The\n",
    "  first and last masses are fixed. The masses are vertically aligned at the\n",
    "  start and are d meters apart; this is also the rest length for the springs\n",
    "  connecting them. Springs have spring constant 50 N/m and gravity is 10 N in\n",
    "  the negative y-direction.\n",
    "\n",
    "  Args:\n",
    "    n: number of masses\n",
    "    d: distance between masses (as well as springs' rest length)\n",
    "\n",
    "  Returns:\n",
    "    data_dict: dictionary with globals, nodes, edges, receivers and senders\n",
    "        to represent a structure like the one above.\n",
    "  \"\"\"\n",
    "  # Nodes\n",
    "  # Generate initial position and velocity for all masses.\n",
    "  # The left-most mass has is at position (0, 0); other masses (ordered left to\n",
    "  # right) have x-coordinate d meters apart from their left neighbor, and\n",
    "  # y-coordinate 0. All masses have initial velocity 0m/s.\n",
    "  nodes = np.zeros((n, 5), dtype=np.float32)\n",
    "  half_width = d * n / 2.0\n",
    "  nodes[:, 0] = np.linspace(\n",
    "      -half_width, half_width, num=n, endpoint=False, dtype=np.float32)\n",
    "  # indicate that the first and last masses are fixed\n",
    "  nodes[(0, -1), -1] = 1.\n",
    "\n",
    "  # Edges.\n",
    "  edges, senders, receivers = [], [], []\n",
    "  for i in range(n - 1):\n",
    "    left_node = i\n",
    "    right_node = i + 1\n",
    "    # The 'if' statements prevent incoming edges to fixed ends of the string.\n",
    "    if right_node < n - 1:\n",
    "      # Left incoming edge.\n",
    "      edges.append([50., d])  #edges have 2 features, spring constant and spring length\n",
    "      senders.append(left_node)\n",
    "      receivers.append(right_node)\n",
    "    if left_node > 0:\n",
    "      # Right incoming edge.\n",
    "      edges.append([50., d])\n",
    "      senders.append(right_node)\n",
    "      receivers.append(left_node)\n",
    "\n",
    "  return {\n",
    "      \"globals\": [0., -10.],\n",
    "      \"nodes\": nodes,\n",
    "      \"edges\": edges,\n",
    "      \"receivers\": receivers,\n",
    "      \"senders\": senders\n",
    "  }"
   ]
  },
  {
   "cell_type": "markdown",
   "metadata": {},
   "source": [
    "Each node has 5 features:\n",
    "* x\n",
    "* y\n",
    "* v_x\n",
    "* v_y\n",
    "* is_fixed"
   ]
  },
  {
   "cell_type": "code",
   "execution_count": 7,
   "metadata": {},
   "outputs": [
    {
     "data": {
      "text/plain": [
       "{'globals': [0.0, -10.0],\n",
       " 'nodes': array([[-10.,   0.,   0.,   0.,   1.],\n",
       "        [ -8.,   0.,   0.,   0.,   0.],\n",
       "        [ -6.,   0.,   0.,   0.,   0.],\n",
       "        [ -4.,   0.,   0.,   0.,   0.],\n",
       "        [ -2.,   0.,   0.,   0.,   0.],\n",
       "        [  0.,   0.,   0.,   0.,   0.],\n",
       "        [  2.,   0.,   0.,   0.,   0.],\n",
       "        [  4.,   0.,   0.,   0.,   0.],\n",
       "        [  6.,   0.,   0.,   0.,   0.],\n",
       "        [  8.,   0.,   0.,   0.,   1.]], dtype=float32),\n",
       " 'edges': [[50.0, 2],\n",
       "  [50.0, 2],\n",
       "  [50.0, 2],\n",
       "  [50.0, 2],\n",
       "  [50.0, 2],\n",
       "  [50.0, 2],\n",
       "  [50.0, 2],\n",
       "  [50.0, 2],\n",
       "  [50.0, 2],\n",
       "  [50.0, 2],\n",
       "  [50.0, 2],\n",
       "  [50.0, 2],\n",
       "  [50.0, 2],\n",
       "  [50.0, 2],\n",
       "  [50.0, 2],\n",
       "  [50.0, 2]],\n",
       " 'receivers': [1, 2, 1, 3, 2, 4, 3, 5, 4, 6, 5, 7, 6, 8, 7, 8],\n",
       " 'senders': [0, 1, 2, 2, 3, 3, 4, 4, 5, 5, 6, 6, 7, 7, 8, 9]}"
      ]
     },
     "execution_count": 7,
     "metadata": {},
     "output_type": "execute_result"
    }
   ],
   "source": [
    "base_graph=base_graph(10,2)\n",
    "base_graph\n",
    "#first and last mass send and edge, don't receive any edge"
   ]
  },
  {
   "cell_type": "code",
   "execution_count": 8,
   "metadata": {},
   "outputs": [],
   "source": [
    "def hookes_law(receiver_nodes, sender_nodes, k, x_rest):\n",
    "  \"\"\"Applies Hooke's law to springs connecting some nodes.\n",
    "\n",
    "  Args:\n",
    "    receiver_nodes: Ex5 tf.Tensor of [x, y, v_x, v_y, is_fixed] features for the\n",
    "      receiver node of each edge.\n",
    "    sender_nodes: Ex5 tf.Tensor of [x, y, v_x, v_y, is_fixed] features for the\n",
    "      sender node of each edge.\n",
    "    k: Spring constant for each edge.\n",
    "    x_rest: Rest length of each edge.\n",
    "\n",
    "  Returns:\n",
    "    Nx2 Tensor of the force [f_x, f_y] acting on each edge.\n",
    "  \"\"\"\n",
    "  #compute the coordinates difference between receivers and senders\n",
    "  diff = receiver_nodes[..., 0:2] - sender_nodes[..., 0:2]\n",
    "  #compute the distance between receivers and senders\n",
    "  x = tf.norm(diff, axis=-1, keepdims=True)\n",
    "  \n",
    "  force_magnitude = -1 * tf.multiply(k, (x - x_rest) / x)\n",
    "  force = force_magnitude * diff\n",
    "  return force"
   ]
  },
  {
   "cell_type": "code",
   "execution_count": null,
   "metadata": {},
   "outputs": [],
   "source": [
    "def euler_integration(nodes, force_per_node, step_size):\n",
    "  \"\"\"Applies one step of Euler integration.\n",
    "\n",
    "  Args:\n",
    "    nodes: Ex5 tf.Tensor of [x, y, v_x, v_y, is_fixed] features for each node.\n",
    "    force_per_node: Ex2 tf.Tensor of the force [f_x, f_y] acting on each edge.\n",
    "    step_size: Scalar.\n",
    "\n",
    "  Returns:\n",
    "    A tf.Tensor of the same shape as `nodes` but with positions and velocities\n",
    "        updated.\n",
    "  \"\"\"\n",
    "  is_fixed = nodes[..., 4:5]\n",
    "  # set forces to zero for fixed nodes\n",
    "  force_per_node *= 1 - is_fixed\n",
    "  new_vel = nodes[..., 2:4] + force_per_node * step_size\n",
    "  return new_vel"
   ]
  },
  {
   "cell_type": "code",
   "execution_count": null,
   "metadata": {},
   "outputs": [],
   "source": []
  }
 ],
 "metadata": {
  "interpreter": {
   "hash": "bff2f86cb060d798c12e3e1ad1b49fa4aed81f439e414222509aed9f9b8b5f97"
  },
  "kernelspec": {
   "display_name": "Python 3.9.6 64-bit",
   "language": "python",
   "name": "python3"
  },
  "language_info": {
   "codemirror_mode": {
    "name": "ipython",
    "version": 3
   },
   "file_extension": ".py",
   "mimetype": "text/x-python",
   "name": "python",
   "nbconvert_exporter": "python",
   "pygments_lexer": "ipython3",
   "version": "3.9.6"
  },
  "orig_nbformat": 4
 },
 "nbformat": 4,
 "nbformat_minor": 2
}
