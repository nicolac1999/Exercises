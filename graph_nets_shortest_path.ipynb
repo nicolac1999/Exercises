{
 "cells": [
  {
   "cell_type": "markdown",
   "metadata": {},
   "source": [
    "The purpose of the notebook is to train a graph network for predicting the shortest path between two nodes in graph.\n",
    "\n",
    "The network is trained to label the nodes and the edges of the shortest path, given the start and the end nodes."
   ]
  },
  {
   "cell_type": "markdown",
   "metadata": {},
   "source": [
    "Geographical thresholded graph\n",
    "\n",
    "the geographical threshold graph model places n nodes uniformly at random in a rectangular domain. Each node u is assigned a weight w_u. Two nodes u and v are joined by an edge if\n",
    "\n",
    "$$\n",
    "w_u+w_v\\gt \\theta \\ r^{\\alpha}\n",
    "$$\n",
    "\n",
    "where r is the Euclidean distance between u and v and $\\theta$, $\\alpha$ are parameters.\n"
   ]
  },
  {
   "cell_type": "code",
   "execution_count": 1,
   "metadata": {},
   "outputs": [],
   "source": [
    "import collections\n",
    "import itertools\n",
    "import time\n",
    "\n",
    "from graph_nets import graphs\n",
    "from graph_nets import utils_np\n",
    "from graph_nets import utils_tf\n",
    "from graph_nets.demos_tf2 import models\n",
    "import matplotlib.pyplot as plt\n",
    "import networkx as nx\n",
    "import numpy as np\n",
    "from scipy import spatial\n",
    "import tensorflow as tf\n",
    "import random as rand\n",
    "\n",
    "SEED = 1\n",
    "np.random.seed(SEED)\n",
    "tf.random.set_seed(SEED)"
   ]
  },
  {
   "cell_type": "code",
   "execution_count": 4,
   "metadata": {},
   "outputs": [],
   "source": [
    "DISTANCE_WEIGHT_NAME = \"distance\"  # The name for the distance edge attribute.\n",
    "\n",
    "\n",
    "def pairwise(iterable):\n",
    "  \"\"\"s -> (s0,s1), (s1,s2), (s2, s3), ...\"\"\"\n",
    "  #intertools.tee returns two iterable \n",
    "  a, b = itertools.tee(iterable)\n",
    "  next(b, None)\n",
    "  return zip(a, b)\n",
    "\n",
    "def set_diff(seq0, seq1):\n",
    "  \"\"\"Return the set difference between 2 sequences as a list.\"\"\"\n",
    "  return list(set(seq0) - set(seq1))\n",
    "\n",
    "def to_one_hot(indices, max_value, axis=-1):\n",
    "  one_hot = np.eye(max_value)[indices]\n",
    "  if axis not in (-1, one_hot.ndim):\n",
    "    one_hot = np.moveaxis(one_hot, -1, axis)\n",
    "  return one_hot\n",
    "\n",
    "def get_node_dict(graph, attr):\n",
    "  \"\"\"Return a `dict` of node:attribute pairs from a graph.\"\"\"\n",
    "  return {k: v[attr] for k, v in graph.nodes.items()}\n",
    "\n",
    "def generate_graph(rand,\n",
    "                   num_nodes_min_max,\n",
    "                   dimensions=2,\n",
    "                   theta=1000.0,\n",
    "                   rate=1.0):\n",
    "  \"\"\"Creates a connected graph.\n",
    "\n",
    "  The graphs are geographic threshold graphs, but with added edges via a\n",
    "  minimum spanning tree algorithm, to ensure all nodes are connected.\n",
    "\n",
    "  Args:\n",
    "    rand: A random seed for the graph generator. Default= None.\n",
    "    num_nodes_min_max: A sequence [lower, upper) number of nodes per graph.\n",
    "    dimensions: (optional) An `int` number of dimensions for the positions.\n",
    "      Default= 2.\n",
    "    theta: (optional) A `float` threshold parameters for the geographic\n",
    "      threshold graph's threshold. Large values (1000+) make mostly trees. Try\n",
    "      20-60 for good non-trees. Default=1000.0.\n",
    "    rate: (optional) A rate parameter for the node weight exponential sampling\n",
    "      distribution. Default= 1.0.\n",
    "\n",
    "  Returns:\n",
    "    The graph.\n",
    "  \"\"\"\n",
    "  # Sample num_nodes.\n",
    "  num_nodes = rand.randint(*num_nodes_min_max)\n",
    "\n",
    "  # Create geographic threshold graph.\n",
    "  #pos_array returns the position of the node in the rectangular domain\n",
    "  pos_array = rand.uniform(size=(num_nodes, dimensions))\n",
    "  #pos contains the node and the position in the rectangular domain\n",
    "  pos = dict(enumerate(pos_array))\n",
    "  #weight contains the node and the weight sampled from an exponential distribution\n",
    "  weight = dict(enumerate(rand.exponential(rate, size=num_nodes)))\n",
    "\n",
    "  geo_graph = nx.geographical_threshold_graph(\n",
    "      num_nodes, theta, pos=pos, weight=weight)\n",
    "\n",
    "  # Create minimum spanning tree across geo_graph's nodes.\n",
    "  distances = spatial.distance.squareform(spatial.distance.pdist(pos_array))\n",
    "  i_, j_ = np.meshgrid(range(num_nodes), range(num_nodes), indexing=\"ij\")\n",
    "  weighted_edges = list(zip(i_.ravel(), j_.ravel(), distances.ravel()))\n",
    "  mst_graph = nx.Graph()\n",
    "  mst_graph.add_weighted_edges_from(weighted_edges, weight=DISTANCE_WEIGHT_NAME)\n",
    "  mst_graph = nx.minimum_spanning_tree(mst_graph, weight=DISTANCE_WEIGHT_NAME)\n",
    "  # Put geo_graph's node attributes into the mst_graph.\n",
    "  for i in mst_graph.nodes():\n",
    "    mst_graph.nodes[i].update(geo_graph.nodes[i])\n",
    "\n",
    "  # Compose the graphs.\n",
    "  combined_graph = nx.compose_all((mst_graph, geo_graph.copy()))\n",
    "  # Put all distance weights into edge attributes.\n",
    "  for i, j in combined_graph.edges():\n",
    "    combined_graph.get_edge_data(i, j).setdefault(DISTANCE_WEIGHT_NAME,\n",
    "                                                  distances[i, j])\n",
    "  return combined_graph, mst_graph, geo_graph\n"
   ]
  },
  {
   "cell_type": "code",
   "execution_count": 3,
   "metadata": {},
   "outputs": [],
   "source": [
    "rand = np.random.RandomState(seed=1)"
   ]
  },
  {
   "cell_type": "code",
   "execution_count": 5,
   "metadata": {},
   "outputs": [],
   "source": [
    "pos_array = rand.uniform(size=(10, 2))"
   ]
  },
  {
   "cell_type": "code",
   "execution_count": 6,
   "metadata": {},
   "outputs": [
    {
     "data": {
      "text/plain": [
       "array([[4.17022005e-01, 7.20324493e-01],\n",
       "       [1.14374817e-04, 3.02332573e-01],\n",
       "       [1.46755891e-01, 9.23385948e-02],\n",
       "       [1.86260211e-01, 3.45560727e-01],\n",
       "       [3.96767474e-01, 5.38816734e-01],\n",
       "       [4.19194514e-01, 6.85219500e-01],\n",
       "       [2.04452250e-01, 8.78117436e-01],\n",
       "       [2.73875932e-02, 6.70467510e-01],\n",
       "       [4.17304802e-01, 5.58689828e-01],\n",
       "       [1.40386939e-01, 1.98101489e-01]])"
      ]
     },
     "execution_count": 6,
     "metadata": {},
     "output_type": "execute_result"
    }
   ],
   "source": [
    "pos_array"
   ]
  },
  {
   "cell_type": "code",
   "execution_count": 7,
   "metadata": {},
   "outputs": [],
   "source": [
    "pos = dict(enumerate(pos_array))"
   ]
  },
  {
   "cell_type": "code",
   "execution_count": 8,
   "metadata": {},
   "outputs": [
    {
     "data": {
      "text/plain": [
       "{0: array([0.417022  , 0.72032449]),\n",
       " 1: array([1.14374817e-04, 3.02332573e-01]),\n",
       " 2: array([0.14675589, 0.09233859]),\n",
       " 3: array([0.18626021, 0.34556073]),\n",
       " 4: array([0.39676747, 0.53881673]),\n",
       " 5: array([0.41919451, 0.6852195 ]),\n",
       " 6: array([0.20445225, 0.87811744]),\n",
       " 7: array([0.02738759, 0.67046751]),\n",
       " 8: array([0.4173048 , 0.55868983]),\n",
       " 9: array([0.14038694, 0.19810149])}"
      ]
     },
     "execution_count": 8,
     "metadata": {},
     "output_type": "execute_result"
    }
   ],
   "source": [
    "pos"
   ]
  },
  {
   "cell_type": "code",
   "execution_count": 9,
   "metadata": {},
   "outputs": [],
   "source": [
    "weight = dict(enumerate(rand.exponential(1, size=10)))"
   ]
  },
  {
   "cell_type": "code",
   "execution_count": 10,
   "metadata": {},
   "outputs": [
    {
     "data": {
      "text/plain": [
       "{0: 1.6131677028403504,\n",
       " 1: 3.4502272097097024,\n",
       " 2: 0.37603861290897017,\n",
       " 3: 1.1787034984431248,\n",
       " 4: 2.090616973214474,\n",
       " 5: 2.250055865972534,\n",
       " 6: 0.08887953331090477,\n",
       " 7: 0.03983787812260575,\n",
       " 8: 0.18612528528308295,\n",
       " 9: 2.1049029778605255}"
      ]
     },
     "execution_count": 10,
     "metadata": {},
     "output_type": "execute_result"
    }
   ],
   "source": [
    "weight"
   ]
  },
  {
   "cell_type": "code",
   "execution_count": 16,
   "metadata": {},
   "outputs": [
    {
     "data": {
      "image/png": "[encoded data removed]",
      "text/plain": [
       "<Figure size 432x288 with 1 Axes>"
      ]
     },
     "metadata": {},
     "output_type": "display_data"
    }
   ],
   "source": [
    "G = nx.geographical_threshold_graph(10, 50)\n",
    "nx.draw(G)"
   ]
  },
  {
   "cell_type": "code",
   "execution_count": null,
   "metadata": {},
   "outputs": [],
   "source": []
  }
 ],
 "metadata": {
  "interpreter": {
   "hash": "bff2f86cb060d798c12e3e1ad1b49fa4aed81f439e414222509aed9f9b8b5f97"
  },
  "kernelspec": {
   "display_name": "Python 3.9.6 64-bit",
   "language": "python",
   "name": "python3"
  },
  "language_info": {
   "codemirror_mode": {
    "name": "ipython",
    "version": 3
   },
   "file_extension": ".py",
   "mimetype": "text/x-python",
   "name": "python",
   "nbconvert_exporter": "python",
   "pygments_lexer": "ipython3",
   "version": "3.9.6"
  },
  "orig_nbformat": 4
 },
 "nbformat": 4,
 "nbformat_minor": 2
}
