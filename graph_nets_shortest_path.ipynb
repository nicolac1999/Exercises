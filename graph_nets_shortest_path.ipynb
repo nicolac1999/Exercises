{
 "cells": [
  {
   "cell_type": "markdown",
   "metadata": {},
   "source": [
    "The purpose of the notebook is to train a graph network for predicting the shortest path between two nodes in a graph.\n",
    "\n",
    "The network is trained to label the nodes and the edges of the shortest path, given the start and the end nodes."
   ]
  },
  {
   "cell_type": "markdown",
   "metadata": {},
   "source": [
    "#### Geographical thresholded graph\n",
    "\n",
    "The geographical threshold graph model places n nodes uniformly at random in a rectangular domain. Each node u is assigned a weight $w_u$. Two nodes u and v are joined by an edge if\n",
    "\n",
    "$$\n",
    "w_u+w_v\\gt \\theta \\ r^{\\alpha}\n",
    "$$\n",
    "\n",
    "where r is the Euclidean distance between u and v and $\\theta$, $\\alpha$ are parameters.\n"
   ]
  },
  {
   "cell_type": "code",
   "execution_count": 105,
   "metadata": {},
   "outputs": [],
   "source": [
    "import collections\n",
    "import itertools\n",
    "import time\n",
    "\n",
    "from graph_nets import graphs\n",
    "from graph_nets import utils_np\n",
    "from graph_nets import utils_tf\n",
    "from graph_nets.demos_tf2 import models\n",
    "import matplotlib.pyplot as plt\n",
    "import networkx as nx\n",
    "import numpy as np\n",
    "from scipy import spatial\n",
    "import tensorflow as tf\n",
    "import random as rand\n",
    "\n",
    "import pprint as pp\n",
    "SEED = 1\n",
    "np.random.seed(SEED)\n",
    "tf.random.set_seed(SEED)"
   ]
  },
  {
   "cell_type": "code",
   "execution_count": 2,
   "metadata": {},
   "outputs": [],
   "source": [
    "DISTANCE_WEIGHT_NAME = \"distance\"  # The name for the distance edge attribute.\n",
    "\n",
    "\n",
    "def pairwise(iterable):\n",
    "  \"\"\"s -> (s0,s1), (s1,s2), (s2, s3), ...\"\"\"\n",
    "  #intertools.tee returns two iterable \n",
    "  a, b = itertools.tee(iterable)\n",
    "  next(b, None)\n",
    "  return zip(a, b)\n",
    "\n",
    "def set_diff(seq0, seq1):\n",
    "  \"\"\"Return the set difference between 2 sequences as a list.\"\"\"\n",
    "  return list(set(seq0) - set(seq1))\n",
    "\n",
    "def to_one_hot(indices, max_value, axis=-1):\n",
    "  one_hot = np.eye(max_value)[indices]\n",
    "  if axis not in (-1, one_hot.ndim):\n",
    "    one_hot = np.moveaxis(one_hot, -1, axis)\n",
    "  return one_hot\n",
    "\n",
    "def get_node_dict(graph, attr):\n",
    "  \"\"\"Return a `dict` of node:attribute pairs from a graph.\"\"\"\n",
    "  return {k: v[attr] for k, v in graph.nodes.items()}\n",
    "\n",
    "def generate_graph(rand,\n",
    "                   num_nodes_min_max,\n",
    "                   dimensions=2,\n",
    "                   theta=1000.0,\n",
    "                   rate=1.0):\n",
    "  \"\"\"Creates a connected graph.\n",
    "\n",
    "  The graphs are geographic threshold graphs, but with added edges via a\n",
    "  minimum spanning tree algorithm, to ensure all nodes are connected.\n",
    "\n",
    "  Args:\n",
    "    rand: A random seed for the graph generator. Default= None.\n",
    "    num_nodes_min_max: A sequence [lower, upper) number of nodes per graph.\n",
    "    dimensions: (optional) An `int` number of dimensions for the positions.\n",
    "      Default= 2.\n",
    "    theta: (optional) A `float` threshold parameters for the geographic\n",
    "      threshold graph's threshold. Large values (1000+) make mostly trees. Try\n",
    "      20-60 for good non-trees. Default=1000.0.\n",
    "    rate: (optional) A rate parameter for the node weight exponential sampling\n",
    "      distribution. Default= 1.0.\n",
    "\n",
    "  Returns:\n",
    "    The graph.\n",
    "  \"\"\"\n",
    "  # Sample num_nodes.\n",
    "  num_nodes = rand.randint(*num_nodes_min_max)\n",
    "\n",
    "  # Create geographic threshold graph.\n",
    "  #pos_array returns the position of the node in the rectangular domain\n",
    "  pos_array = rand.uniform(size=(num_nodes, dimensions))\n",
    "  #pos contains the node and the position in the rectangular domain\n",
    "  pos = dict(enumerate(pos_array))\n",
    "  #weight contains the node and the weight sampled from an exponential distribution\n",
    "  weight = dict(enumerate(rand.exponential(rate, size=num_nodes)))\n",
    "\n",
    "  geo_graph = nx.geographical_threshold_graph(\n",
    "      num_nodes, theta, pos=pos, weight=weight)\n",
    "\n",
    "  # Create minimum spanning tree across geo_graph's nodes.\n",
    "  distances = spatial.distance.squareform(spatial.distance.pdist(pos_array))\n",
    "  i_, j_ = np.meshgrid(range(num_nodes), range(num_nodes), indexing=\"ij\")\n",
    "  weighted_edges = list(zip(i_.ravel(), j_.ravel(), distances.ravel()))\n",
    "  mst_graph = nx.Graph()\n",
    "  mst_graph.add_weighted_edges_from(weighted_edges, weight=DISTANCE_WEIGHT_NAME)\n",
    "  mst_graph = nx.minimum_spanning_tree(mst_graph, weight=DISTANCE_WEIGHT_NAME)\n",
    "  \n",
    "  # Put geo_graph's node attributes into the mst_graph.\n",
    "  for i in mst_graph.nodes():\n",
    "    mst_graph.nodes[i].update(geo_graph.nodes[i])\n",
    "\n",
    "  # Compose the graphs.\n",
    "  combined_graph = nx.compose_all((mst_graph, geo_graph.copy()))\n",
    "  # Put all distance weights into edge attributes.\n",
    "  for i, j in combined_graph.edges():\n",
    "    combined_graph.get_edge_data(i, j).setdefault(DISTANCE_WEIGHT_NAME,\n",
    "                                                  distances[i, j])\n",
    "  return combined_graph, mst_graph, geo_graph\n"
   ]
  },
  {
   "cell_type": "code",
   "execution_count": 3,
   "metadata": {},
   "outputs": [],
   "source": [
    "rand = np.random.RandomState(seed=1)"
   ]
  },
  {
   "cell_type": "code",
   "execution_count": 4,
   "metadata": {},
   "outputs": [],
   "source": [
    "pos_array = rand.uniform(size=(10, 2))"
   ]
  },
  {
   "cell_type": "code",
   "execution_count": 5,
   "metadata": {},
   "outputs": [
    {
     "data": {
      "text/plain": [
       "array([[4.17022005e-01, 7.20324493e-01],\n",
       "       [1.14374817e-04, 3.02332573e-01],\n",
       "       [1.46755891e-01, 9.23385948e-02],\n",
       "       [1.86260211e-01, 3.45560727e-01],\n",
       "       [3.96767474e-01, 5.38816734e-01],\n",
       "       [4.19194514e-01, 6.85219500e-01],\n",
       "       [2.04452250e-01, 8.78117436e-01],\n",
       "       [2.73875932e-02, 6.70467510e-01],\n",
       "       [4.17304802e-01, 5.58689828e-01],\n",
       "       [1.40386939e-01, 1.98101489e-01]])"
      ]
     },
     "execution_count": 5,
     "metadata": {},
     "output_type": "execute_result"
    }
   ],
   "source": [
    "pos_array"
   ]
  },
  {
   "cell_type": "code",
   "execution_count": 13,
   "metadata": {},
   "outputs": [],
   "source": [
    "#dictinary containing the positions of all the nodes\n",
    "pos = dict(enumerate(pos_array))"
   ]
  },
  {
   "cell_type": "code",
   "execution_count": 7,
   "metadata": {},
   "outputs": [
    {
     "data": {
      "text/plain": [
       "{0: array([0.417022  , 0.72032449]),\n",
       " 1: array([1.14374817e-04, 3.02332573e-01]),\n",
       " 2: array([0.14675589, 0.09233859]),\n",
       " 3: array([0.18626021, 0.34556073]),\n",
       " 4: array([0.39676747, 0.53881673]),\n",
       " 5: array([0.41919451, 0.6852195 ]),\n",
       " 6: array([0.20445225, 0.87811744]),\n",
       " 7: array([0.02738759, 0.67046751]),\n",
       " 8: array([0.4173048 , 0.55868983]),\n",
       " 9: array([0.14038694, 0.19810149])}"
      ]
     },
     "execution_count": 7,
     "metadata": {},
     "output_type": "execute_result"
    }
   ],
   "source": [
    "pos"
   ]
  },
  {
   "cell_type": "code",
   "execution_count": 10,
   "metadata": {},
   "outputs": [],
   "source": [
    "#dictionaru containing the weights of the nodes\n",
    "weight = dict(enumerate(rand.exponential(1, size=10)))"
   ]
  },
  {
   "cell_type": "code",
   "execution_count": 11,
   "metadata": {},
   "outputs": [
    {
     "data": {
      "text/plain": [
       "{0: 0.10352534930954074,\n",
       " 1: 0.5466386995248671,\n",
       " 2: 3.167458879200206,\n",
       " 3: 0.7617800132393983,\n",
       " 4: 1.1772565948999085,\n",
       " 5: 0.37908947016968575,\n",
       " 6: 1.1599588780254495,\n",
       " 7: 1.7995437194267623,\n",
       " 8: 0.018457575175565604,\n",
       " 9: 1.386871787578335}"
      ]
     },
     "execution_count": 11,
     "metadata": {},
     "output_type": "execute_result"
    }
   ],
   "source": [
    "weight"
   ]
  },
  {
   "cell_type": "code",
   "execution_count": 40,
   "metadata": {},
   "outputs": [
    {
     "data": {
      "image/png": "[encoded data removed]",
      "text/plain": [
       "<Figure size 432x288 with 1 Axes>"
      ]
     },
     "metadata": {},
     "output_type": "display_data"
    }
   ],
   "source": [
    "G = nx.geographical_threshold_graph(10, 50)\n",
    "nx.draw(G,with_labels=True)"
   ]
  },
  {
   "cell_type": "code",
   "execution_count": 17,
   "metadata": {},
   "outputs": [
    {
     "data": {
      "text/plain": [
       "array([0.59036363, 0.68367394, 0.44011236, 0.18263437, 0.03517215,\n",
       "       0.2647348 , 0.39281127, 0.16163491, 0.59096855, 0.25612732,\n",
       "       0.19109931, 0.46179913, 0.56765356, 0.61096823, 0.36914382,\n",
       "       0.48965998, 0.17475844, 0.25628507, 0.51171136, 0.65248032,\n",
       "       0.78789419, 0.5903235 , 0.53914765, 0.10595449, 0.28576422,\n",
       "       0.41185734, 0.53286734, 0.36166964, 0.31433361, 0.15442987,\n",
       "       0.14811057, 0.39001296, 0.39213955, 0.02857834, 0.42640105,\n",
       "       0.28865872, 0.39208454, 0.12654378, 0.56126431, 0.27289262,\n",
       "       0.3838492 , 0.68302712, 0.40562258, 0.48569384, 0.45465091])"
      ]
     },
     "execution_count": 17,
     "metadata": {},
     "output_type": "execute_result"
    }
   ],
   "source": [
    "#pairwise distance between the points\n",
    "spatial.distance.pdist(pos_array)"
   ]
  },
  {
   "cell_type": "code",
   "execution_count": 14,
   "metadata": {},
   "outputs": [],
   "source": [
    "distances = spatial.distance.squareform(spatial.distance.pdist(pos_array))"
   ]
  },
  {
   "cell_type": "code",
   "execution_count": 16,
   "metadata": {},
   "outputs": [
    {
     "data": {
      "text/plain": [
       "array([[0.        , 0.59036363, 0.68367394, 0.44011236, 0.18263437,\n",
       "        0.03517215, 0.2647348 , 0.39281127, 0.16163491, 0.59096855],\n",
       "       [0.59036363, 0.        , 0.25612732, 0.19109931, 0.46179913,\n",
       "        0.56765356, 0.61096823, 0.36914382, 0.48965998, 0.17475844],\n",
       "       [0.68367394, 0.25612732, 0.        , 0.25628507, 0.51171136,\n",
       "        0.65248032, 0.78789419, 0.5903235 , 0.53914765, 0.10595449],\n",
       "       [0.44011236, 0.19109931, 0.25628507, 0.        , 0.28576422,\n",
       "        0.41185734, 0.53286734, 0.36166964, 0.31433361, 0.15442987],\n",
       "       [0.18263437, 0.46179913, 0.51171136, 0.28576422, 0.        ,\n",
       "        0.14811057, 0.39001296, 0.39213955, 0.02857834, 0.42640105],\n",
       "       [0.03517215, 0.56765356, 0.65248032, 0.41185734, 0.14811057,\n",
       "        0.        , 0.28865872, 0.39208454, 0.12654378, 0.56126431],\n",
       "       [0.2647348 , 0.61096823, 0.78789419, 0.53286734, 0.39001296,\n",
       "        0.28865872, 0.        , 0.27289262, 0.3838492 , 0.68302712],\n",
       "       [0.39281127, 0.36914382, 0.5903235 , 0.36166964, 0.39213955,\n",
       "        0.39208454, 0.27289262, 0.        , 0.40562258, 0.48569384],\n",
       "       [0.16163491, 0.48965998, 0.53914765, 0.31433361, 0.02857834,\n",
       "        0.12654378, 0.3838492 , 0.40562258, 0.        , 0.45465091],\n",
       "       [0.59096855, 0.17475844, 0.10595449, 0.15442987, 0.42640105,\n",
       "        0.56126431, 0.68302712, 0.48569384, 0.45465091, 0.        ]])"
      ]
     },
     "execution_count": 16,
     "metadata": {},
     "output_type": "execute_result"
    }
   ],
   "source": [
    "#return the distance between one node and all the others\n",
    "distances"
   ]
  },
  {
   "cell_type": "code",
   "execution_count": 18,
   "metadata": {},
   "outputs": [],
   "source": [
    " i_, j_ = np.meshgrid(range(10), range(10), indexing=\"ij\")"
   ]
  },
  {
   "cell_type": "code",
   "execution_count": 19,
   "metadata": {},
   "outputs": [
    {
     "data": {
      "text/plain": [
       "array([[0, 0, 0, 0, 0, 0, 0, 0, 0, 0],\n",
       "       [1, 1, 1, 1, 1, 1, 1, 1, 1, 1],\n",
       "       [2, 2, 2, 2, 2, 2, 2, 2, 2, 2],\n",
       "       [3, 3, 3, 3, 3, 3, 3, 3, 3, 3],\n",
       "       [4, 4, 4, 4, 4, 4, 4, 4, 4, 4],\n",
       "       [5, 5, 5, 5, 5, 5, 5, 5, 5, 5],\n",
       "       [6, 6, 6, 6, 6, 6, 6, 6, 6, 6],\n",
       "       [7, 7, 7, 7, 7, 7, 7, 7, 7, 7],\n",
       "       [8, 8, 8, 8, 8, 8, 8, 8, 8, 8],\n",
       "       [9, 9, 9, 9, 9, 9, 9, 9, 9, 9]])"
      ]
     },
     "execution_count": 19,
     "metadata": {},
     "output_type": "execute_result"
    }
   ],
   "source": [
    "i_."
   ]
  },
  {
   "cell_type": "code",
   "execution_count": 20,
   "metadata": {},
   "outputs": [
    {
     "data": {
      "text/plain": [
       "array([[0, 1, 2, 3, 4, 5, 6, 7, 8, 9],\n",
       "       [0, 1, 2, 3, 4, 5, 6, 7, 8, 9],\n",
       "       [0, 1, 2, 3, 4, 5, 6, 7, 8, 9],\n",
       "       [0, 1, 2, 3, 4, 5, 6, 7, 8, 9],\n",
       "       [0, 1, 2, 3, 4, 5, 6, 7, 8, 9],\n",
       "       [0, 1, 2, 3, 4, 5, 6, 7, 8, 9],\n",
       "       [0, 1, 2, 3, 4, 5, 6, 7, 8, 9],\n",
       "       [0, 1, 2, 3, 4, 5, 6, 7, 8, 9],\n",
       "       [0, 1, 2, 3, 4, 5, 6, 7, 8, 9],\n",
       "       [0, 1, 2, 3, 4, 5, 6, 7, 8, 9]])"
      ]
     },
     "execution_count": 20,
     "metadata": {},
     "output_type": "execute_result"
    }
   ],
   "source": [
    "j_"
   ]
  },
  {
   "cell_type": "code",
   "execution_count": 22,
   "metadata": {},
   "outputs": [
    {
     "data": {
      "text/plain": [
       "array([0, 0, 0, 0, 0, 0, 0, 0, 0, 0, 1, 1, 1, 1, 1, 1, 1, 1, 1, 1, 2, 2,\n",
       "       2, 2, 2, 2, 2, 2, 2, 2, 3, 3, 3, 3, 3, 3, 3, 3, 3, 3, 4, 4, 4, 4,\n",
       "       4, 4, 4, 4, 4, 4, 5, 5, 5, 5, 5, 5, 5, 5, 5, 5, 6, 6, 6, 6, 6, 6,\n",
       "       6, 6, 6, 6, 7, 7, 7, 7, 7, 7, 7, 7, 7, 7, 8, 8, 8, 8, 8, 8, 8, 8,\n",
       "       8, 8, 9, 9, 9, 9, 9, 9, 9, 9, 9, 9])"
      ]
     },
     "execution_count": 22,
     "metadata": {},
     "output_type": "execute_result"
    }
   ],
   "source": [
    "#return a copy \n",
    "# if we modify it the original array will not be modified \n",
    "i_.flatten()"
   ]
  },
  {
   "cell_type": "code",
   "execution_count": 23,
   "metadata": {},
   "outputs": [
    {
     "data": {
      "text/plain": [
       "array([0, 0, 0, 0, 0, 0, 0, 0, 0, 0, 1, 1, 1, 1, 1, 1, 1, 1, 1, 1, 2, 2,\n",
       "       2, 2, 2, 2, 2, 2, 2, 2, 3, 3, 3, 3, 3, 3, 3, 3, 3, 3, 4, 4, 4, 4,\n",
       "       4, 4, 4, 4, 4, 4, 5, 5, 5, 5, 5, 5, 5, 5, 5, 5, 6, 6, 6, 6, 6, 6,\n",
       "       6, 6, 6, 6, 7, 7, 7, 7, 7, 7, 7, 7, 7, 7, 8, 8, 8, 8, 8, 8, 8, 8,\n",
       "       8, 8, 9, 9, 9, 9, 9, 9, 9, 9, 9, 9])"
      ]
     },
     "execution_count": 23,
     "metadata": {},
     "output_type": "execute_result"
    }
   ],
   "source": [
    "#return a view \n",
    "# if we modify it al the original array will be modified\n",
    "# this one is faster since no menory is copied\n",
    "i_.ravel()"
   ]
  },
  {
   "cell_type": "code",
   "execution_count": 24,
   "metadata": {},
   "outputs": [],
   "source": [
    "weighted_edges = list(zip(i_.ravel(), j_.ravel(), distances.ravel()))\n",
    "#returns a list of tuples (position_1, position_j,distance)"
   ]
  },
  {
   "cell_type": "code",
   "execution_count": 37,
   "metadata": {},
   "outputs": [
    {
     "data": {
      "image/png": "[encoded data removed]",
      "text/plain": [
       "<Figure size 432x288 with 1 Axes>"
      ]
     },
     "metadata": {},
     "output_type": "display_data"
    }
   ],
   "source": [
    "#complete graph because we add all possible combinations of nodes with edge value equal to \n",
    "#their distance\n",
    "mst_graph = nx.Graph()\n",
    "mst_graph.add_weighted_edges_from(weighted_edges, weight=DISTANCE_WEIGHT_NAME)\n",
    "nx.draw(mst_graph,with_labels=True)"
   ]
  },
  {
   "cell_type": "code",
   "execution_count": 38,
   "metadata": {},
   "outputs": [
    {
     "data": {
      "image/png": "[encoded data removed]",
      "text/plain": [
       "<Figure size 432x288 with 1 Axes>"
      ]
     },
     "metadata": {},
     "output_type": "display_data"
    }
   ],
   "source": [
    "# this one return the minimum spanning tree ,\n",
    "# a minimum spanning tree is a subgraph of the graph with the minumum sum of the edge weights\n",
    "mst_graph = nx.minimum_spanning_tree(mst_graph, weight=DISTANCE_WEIGHT_NAME)\n",
    "nx.draw(mst_graph,with_labels=True)\n"
   ]
  },
  {
   "cell_type": "code",
   "execution_count": 39,
   "metadata": {},
   "outputs": [
    {
     "data": {
      "text/plain": [
       "EdgeDataView([(0, 5, {'distance': 0.03517215283597537}), (0, 6, {'distance': 0.2647347985681034}), (1, 9, {'distance': 0.17475843592283455}), (2, 9, {'distance': 0.10595448724107487}), (3, 9, {'distance': 0.15442986762597377}), (3, 4, {'distance': 0.2857642243880516}), (4, 8, {'distance': 0.028578343718642082}), (5, 8, {'distance': 0.12654378252450532}), (6, 7, {'distance': 0.2728926243954447})])"
      ]
     },
     "execution_count": 39,
     "metadata": {},
     "output_type": "execute_result"
    }
   ],
   "source": [
    "mst_graph.edges().data()"
   ]
  },
  {
   "cell_type": "code",
   "execution_count": 49,
   "metadata": {},
   "outputs": [],
   "source": [
    "# union of all graphs , unions of the node sets and edge sets\n",
    "# combine minumum spanning tree with geographical thresholded graph to produce\n",
    "# a connected graph  \n",
    "combined_graph = nx.compose_all((mst_graph, G.copy()))"
   ]
  },
  {
   "cell_type": "code",
   "execution_count": 51,
   "metadata": {},
   "outputs": [
    {
     "data": {
      "image/png": "[encoded data removed]",
      "text/plain": [
       "<Figure size 432x288 with 1 Axes>"
      ]
     },
     "metadata": {},
     "output_type": "display_data"
    }
   ],
   "source": [
    "nx.draw(combined_graph,with_labels=True)"
   ]
  },
  {
   "cell_type": "code",
   "execution_count": 54,
   "metadata": {},
   "outputs": [
    {
     "data": {
      "text/plain": [
       "EdgeDataView([(0, 5, {'distance': 0.03517215283597537}), (0, 6, {'distance': 0.2647347985681034}), (0, 8, {}), (1, 9, {'distance': 0.17475843592283455}), (2, 9, {'distance': 0.10595448724107487}), (2, 8, {}), (3, 9, {'distance': 0.15442986762597377}), (3, 4, {'distance': 0.2857642243880516}), (4, 8, {'distance': 0.028578343718642082}), (5, 8, {'distance': 0.12654378252450532}), (6, 7, {'distance': 0.2728926243954447}), (6, 8, {})])"
      ]
     },
     "execution_count": 54,
     "metadata": {},
     "output_type": "execute_result"
    }
   ],
   "source": [
    "combined_graph.edges.data()\n",
    "# all the edges present in geo_graph have no value ({}) all the others \n",
    "# have the value of the distance present in the mst_graph\n",
    "# in general if a graph attribute is present in multiple graphs, then the value from the last graph\n",
    "# in the list with that attribute is used"
   ]
  },
  {
   "cell_type": "code",
   "execution_count": 55,
   "metadata": {},
   "outputs": [],
   "source": [
    "# the empty values are filled with the distances present in the mst_graph\n",
    "\n",
    "for i, j in combined_graph.edges():\n",
    "    combined_graph.get_edge_data(i, j).setdefault(DISTANCE_WEIGHT_NAME,\n",
    "                                                  distances[i, j])"
   ]
  },
  {
   "cell_type": "code",
   "execution_count": 56,
   "metadata": {},
   "outputs": [
    {
     "data": {
      "text/plain": [
       "EdgeDataView([(0, 5, {'distance': 0.03517215283597537}), (0, 6, {'distance': 0.2647347985681034}), (0, 8, {'distance': 0.16163491238906158}), (1, 9, {'distance': 0.17475843592283455}), (2, 9, {'distance': 0.10595448724107487}), (2, 8, {'distance': 0.5391476483236425}), (3, 9, {'distance': 0.15442986762597377}), (3, 4, {'distance': 0.2857642243880516}), (4, 8, {'distance': 0.028578343718642082}), (5, 8, {'distance': 0.12654378252450532}), (6, 7, {'distance': 0.2728926243954447}), (6, 8, {'distance': 0.38384919679619406})])"
      ]
     },
     "execution_count": 56,
     "metadata": {},
     "output_type": "execute_result"
    }
   ],
   "source": [
    "combined_graph.edges.data()"
   ]
  },
  {
   "cell_type": "code",
   "execution_count": 57,
   "metadata": {},
   "outputs": [],
   "source": [
    "def add_shortest_path(rand, graph, min_length=1):\n",
    "  \"\"\"Samples a shortest path from A to B and adds attributes to indicate it.\n",
    "\n",
    "  Args:\n",
    "    rand: A random seed for the graph generator. Default= None.\n",
    "    graph: A `nx.Graph`.\n",
    "    min_length: (optional) An `int` minimum number of edges in the shortest\n",
    "      path. Default= 1.\n",
    "\n",
    "  Returns:\n",
    "    The `nx.DiGraph` with the shortest path added.\n",
    "\n",
    "  Raises:\n",
    "    ValueError: All shortest paths are below the minimum length\n",
    "  \"\"\"\n",
    "  # Map from node pairs to the length of their shortest path.\n",
    "  pair_to_length_dict = {}\n",
    "  # pair_to_length_dict={(1,3):4,(1,9):6,,,,}\n",
    "\n",
    "  try:\n",
    "    # This is for compatibility with older networkx.\n",
    "    lengths = nx.all_pairs_shortest_path_length(graph).items()\n",
    "  except AttributeError:\n",
    "    # This is for compatibility with newer networkx.\n",
    "    lengths = list(nx.all_pairs_shortest_path_length(graph))\n",
    "    \n",
    "  for x, yy in lengths:\n",
    "    for y, l in yy.items():\n",
    "      if l >= min_length:\n",
    "        pair_to_length_dict[x, y] = l\n",
    "  if max(pair_to_length_dict.values()) < min_length:\n",
    "    raise ValueError(\"All shortest paths are below the minimum length\")\n",
    "  \n",
    "  # The node pairs which exceed the minimum length.\n",
    "  # with list only the keys are returned \n",
    "  node_pairs = list(pair_to_length_dict)\n",
    "\n",
    "  # Computes probabilities per pair, to enforce uniform sampling of each\n",
    "  # shortest path lengths.\n",
    "  # The counts of pairs per length.\n",
    "  \n",
    "  # counts contain the values of the shortest paths and how many times they appear \n",
    "  # in the dictionary\n",
    "  counts = collections.Counter(pair_to_length_dict.values())\n",
    "  prob_per_length = 1.0 / len(counts)\n",
    "  probabilities = [\n",
    "      prob_per_length / counts[pair_to_length_dict[x]] for x in node_pairs\n",
    "  ]\n",
    "\n",
    "  # Choose the start and end points.\n",
    "  i = rand.choice(len(node_pairs), p=probabilities)\n",
    "  start, end = node_pairs[i]\n",
    "\n",
    "  #return a list of nodes in the shortest path from the source to the target\n",
    "  path = nx.shortest_path(\n",
    "      graph, source=start, target=end, weight=DISTANCE_WEIGHT_NAME)\n",
    "\n",
    "  # Creates a directed graph, to store the directed path from start to end.\n",
    "  # creates a deep copy of the graph \n",
    "  # instead DiGraph(graph) creates a shallow copy of the graph\n",
    "  digraph = graph.to_directed()\n",
    "\n",
    "  # Add the \"start\", \"end\", and \"solution\" attributes to the nodes and edges.\n",
    "  digraph.add_node(start, start=True)\n",
    "  digraph.add_node(end, end=True)\n",
    "  digraph.add_nodes_from(set_diff(digraph.nodes(), [start]), start=False)\n",
    "  digraph.add_nodes_from(set_diff(digraph.nodes(), [end]), end=False)\n",
    "  digraph.add_nodes_from(set_diff(digraph.nodes(), path), solution=False)\n",
    "  digraph.add_nodes_from(path, solution=True)\n",
    "  path_edges = list(pairwise(path))\n",
    "  digraph.add_edges_from(set_diff(digraph.edges(), path_edges), solution=False)\n",
    "  digraph.add_edges_from(path_edges, solution=True)\n",
    "\n",
    "  return digraph"
   ]
  },
  {
   "cell_type": "code",
   "execution_count": 73,
   "metadata": {},
   "outputs": [
    {
     "data": {
      "image/png": "[encoded data removed]",
      "text/plain": [
       "<Figure size 432x288 with 1 Axes>"
      ]
     },
     "metadata": {},
     "output_type": "display_data"
    }
   ],
   "source": [
    "nx.draw(combined_graph,with_labels=True)"
   ]
  },
  {
   "cell_type": "code",
   "execution_count": 72,
   "metadata": {},
   "outputs": [
    {
     "data": {
      "text/plain": [
       "[(0, {0: 0, 8: 1, 5: 1, 6: 1, 2: 2, 4: 2, 7: 2, 9: 3, 3: 3, 1: 4}),\n",
       " (1, {1: 0, 9: 1, 2: 2, 3: 2, 8: 3, 4: 3, 0: 4, 5: 4, 6: 4, 7: 5}),\n",
       " (2, {2: 0, 8: 1, 9: 1, 0: 2, 1: 2, 3: 2, 4: 2, 5: 2, 6: 2, 7: 3}),\n",
       " (3, {3: 0, 9: 1, 4: 1, 8: 2, 1: 2, 2: 2, 0: 3, 5: 3, 6: 3, 7: 4}),\n",
       " (4, {4: 0, 8: 1, 3: 1, 0: 2, 2: 2, 5: 2, 6: 2, 9: 2, 1: 3, 7: 3}),\n",
       " (5, {5: 0, 0: 1, 8: 1, 2: 2, 4: 2, 6: 2, 3: 3, 7: 3, 9: 3, 1: 4}),\n",
       " (6, {6: 0, 0: 1, 8: 1, 7: 1, 2: 2, 4: 2, 5: 2, 9: 3, 3: 3, 1: 4}),\n",
       " (7, {7: 0, 6: 1, 0: 2, 8: 2, 2: 3, 4: 3, 5: 3, 9: 4, 3: 4, 1: 5}),\n",
       " (8, {8: 0, 0: 1, 2: 1, 4: 1, 5: 1, 6: 1, 3: 2, 7: 2, 9: 2, 1: 3}),\n",
       " (9, {9: 0, 1: 1, 2: 1, 3: 1, 8: 2, 4: 2, 0: 3, 5: 3, 6: 3, 7: 4})]"
      ]
     },
     "execution_count": 72,
     "metadata": {},
     "output_type": "execute_result"
    }
   ],
   "source": [
    "list(nx.all_pairs_shortest_path_length(combined_graph))\n",
    "# computes the shostest path lenghts between all the nodes in G\n",
    "# returns a list of (source, dictionary) where the dctionary\n",
    "# is keyed by target and shortest path lenghts as the key value\n",
    " "
   ]
  },
  {
   "cell_type": "code",
   "execution_count": 80,
   "metadata": {},
   "outputs": [
    {
     "data": {
      "text/plain": [
       "[0, 8, 4, 3]"
      ]
     },
     "execution_count": 80,
     "metadata": {},
     "output_type": "execute_result"
    }
   ],
   "source": [
    "nx.shortest_path(combined_graph,0,3,weight=DISTANCE_WEIGHT_NAME)\n",
    "#returns the list of the nodes in the shortest path between two nodes"
   ]
  },
  {
   "cell_type": "code",
   "execution_count": 81,
   "metadata": {},
   "outputs": [],
   "source": [
    "rand = np.random.RandomState(seed=SEED)\n",
    "combined_graph_short=add_shortest_path(rand,combined_graph)"
   ]
  },
  {
   "cell_type": "code",
   "execution_count": 85,
   "metadata": {},
   "outputs": [
    {
     "data": {
      "text/plain": [
       "NodeDataView({0: {'weight': 1.1808365414059072, 'pos': [0.6477900064149638, 0.5696485123139942]}, 1: {'weight': 0.9099203367359953, 'pos': [0.23154436217968377, 0.6462901421071049]}, 2: {'weight': 1.1152960532860092, 'pos': [0.5372641984488923, 0.3288746366849249]}, 3: {'weight': 0.49467001545848893, 'pos': [0.6483505783917282, 0.9936769632498018]}, 4: {'weight': 1.5302959017049962, 'pos': [0.19206525955551446, 0.2297846890824341]}, 5: {'weight': 0.21186909484803854, 'pos': [0.10784558422573176, 0.8331108395042138]}, 6: {'weight': 0.17442275626329629, 'pos': [0.6466384010851952, 0.5864112856530294]}, 7: {'weight': 1.6126198407027885, 'pos': [0.8132448673663146, 0.3378690857703849]}, 8: {'weight': 0.8225261860790685, 'pos': [0.61332978410049, 0.4983403287517144]}, 9: {'weight': 0.9172688822572008, 'pos': [0.4321658007302047, 0.7948732510809783]}})"
      ]
     },
     "execution_count": 85,
     "metadata": {},
     "output_type": "execute_result"
    }
   ],
   "source": [
    "combined_graph.nodes.data()"
   ]
  },
  {
   "cell_type": "code",
   "execution_count": 86,
   "metadata": {},
   "outputs": [
    {
     "data": {
      "text/plain": [
       "NodeDataView({0: {'weight': 1.1808365414059072, 'pos': [0.6477900064149638, 0.5696485123139942], 'start': False, 'end': False, 'solution': False}, 1: {'weight': 0.9099203367359953, 'pos': [0.23154436217968377, 0.6462901421071049], 'start': False, 'end': False, 'solution': False}, 2: {'weight': 1.1152960532860092, 'pos': [0.5372641984488923, 0.3288746366849249], 'start': False, 'end': False, 'solution': False}, 3: {'weight': 0.49467001545848893, 'pos': [0.6483505783917282, 0.9936769632498018], 'start': True, 'end': False, 'solution': True}, 4: {'weight': 1.5302959017049962, 'pos': [0.19206525955551446, 0.2297846890824341], 'start': False, 'end': False, 'solution': True}, 5: {'weight': 0.21186909484803854, 'pos': [0.10784558422573176, 0.8331108395042138], 'start': False, 'end': False, 'solution': False}, 6: {'weight': 0.17442275626329629, 'pos': [0.6466384010851952, 0.5864112856530294], 'start': False, 'end': False, 'solution': True}, 7: {'weight': 1.6126198407027885, 'pos': [0.8132448673663146, 0.3378690857703849], 'end': True, 'start': False, 'solution': True}, 8: {'weight': 0.8225261860790685, 'pos': [0.61332978410049, 0.4983403287517144], 'start': False, 'end': False, 'solution': True}, 9: {'weight': 0.9172688822572008, 'pos': [0.4321658007302047, 0.7948732510809783], 'start': False, 'end': False, 'solution': False}})"
      ]
     },
     "execution_count": 86,
     "metadata": {},
     "output_type": "execute_result"
    }
   ],
   "source": [
    "combined_graph_short.nodes.data()\n",
    "# contains the same nodes but with more attributes\n",
    "# 'start' if the node is the starting node of the shortest path\n",
    "# 'end' if the node is the ending node of the shortest path\n",
    "# 'solution' if the node belongs to the shortest path "
   ]
  },
  {
   "cell_type": "code",
   "execution_count": 87,
   "metadata": {},
   "outputs": [
    {
     "data": {
      "text/plain": [
       "EdgeDataView([(0, 5, {'distance': 0.03517215283597537}), (0, 6, {'distance': 0.2647347985681034}), (0, 8, {'distance': 0.16163491238906158}), (1, 9, {'distance': 0.17475843592283455}), (2, 9, {'distance': 0.10595448724107487}), (2, 8, {'distance': 0.5391476483236425}), (3, 9, {'distance': 0.15442986762597377}), (3, 4, {'distance': 0.2857642243880516}), (4, 8, {'distance': 0.028578343718642082}), (5, 8, {'distance': 0.12654378252450532}), (6, 7, {'distance': 0.2728926243954447}), (6, 8, {'distance': 0.38384919679619406})])"
      ]
     },
     "execution_count": 87,
     "metadata": {},
     "output_type": "execute_result"
    }
   ],
   "source": [
    "combined_graph.edges.data()"
   ]
  },
  {
   "cell_type": "code",
   "execution_count": 88,
   "metadata": {},
   "outputs": [
    {
     "data": {
      "text/plain": [
       "OutEdgeDataView([(0, 5, {'distance': 0.03517215283597537, 'solution': False}), (0, 6, {'distance': 0.2647347985681034, 'solution': False}), (0, 8, {'distance': 0.16163491238906158, 'solution': False}), (1, 9, {'distance': 0.17475843592283455, 'solution': False}), (2, 9, {'distance': 0.10595448724107487, 'solution': False}), (2, 8, {'distance': 0.5391476483236425, 'solution': False}), (3, 9, {'distance': 0.15442986762597377, 'solution': False}), (3, 4, {'distance': 0.2857642243880516, 'solution': True}), (4, 3, {'distance': 0.2857642243880516, 'solution': False}), (4, 8, {'distance': 0.028578343718642082, 'solution': True}), (5, 0, {'distance': 0.03517215283597537, 'solution': False}), (5, 8, {'distance': 0.12654378252450532, 'solution': False}), (6, 0, {'distance': 0.2647347985681034, 'solution': False}), (6, 7, {'distance': 0.2728926243954447, 'solution': True}), (6, 8, {'distance': 0.38384919679619406, 'solution': False}), (7, 6, {'distance': 0.2728926243954447, 'solution': False}), (8, 4, {'distance': 0.028578343718642082, 'solution': False}), (8, 5, {'distance': 0.12654378252450532, 'solution': False}), (8, 0, {'distance': 0.16163491238906158, 'solution': False}), (8, 2, {'distance': 0.5391476483236425, 'solution': False}), (8, 6, {'distance': 0.38384919679619406, 'solution': True}), (9, 1, {'distance': 0.17475843592283455, 'solution': False}), (9, 2, {'distance': 0.10595448724107487, 'solution': False}), (9, 3, {'distance': 0.15442986762597377, 'solution': False})])"
      ]
     },
     "execution_count": 88,
     "metadata": {},
     "output_type": "execute_result"
    }
   ],
   "source": [
    "combined_graph_short.edges.data()\n",
    "#'solution' if the edge belongs to the shortest path"
   ]
  },
  {
   "cell_type": "code",
   "execution_count": 162,
   "metadata": {},
   "outputs": [],
   "source": [
    "def graph_to_input_target(graph):\n",
    "  \"\"\"Returns 2 graphs with input and target feature vectors for training.\n",
    "\n",
    "  Args:\n",
    "    graph: An `nx.DiGraph` instance.\n",
    "\n",
    "  Returns:\n",
    "    The input `nx.DiGraph` instance.\n",
    "    The target `nx.DiGraph` instance.\n",
    "\n",
    "  Raises:\n",
    "    ValueError: unknown node type\n",
    "  \"\"\"\n",
    "\n",
    "  def create_feature(attr, fields):\n",
    "    return np.hstack([np.array(attr[field], dtype=float) for field in fields])\n",
    "\n",
    "  input_node_fields = (\"pos\", \"weight\", \"start\", \"end\")\n",
    "  input_edge_fields = (\"distance\",)\n",
    "  target_node_fields = (\"solution\",)\n",
    "  target_edge_fields = (\"solution\",)\n",
    "\n",
    "  input_graph = graph.copy()\n",
    "  target_graph = graph.copy()\n",
    "\n",
    "  solution_length = 0\n",
    "\n",
    "  for node_index, node_feature in graph.nodes(data=True):\n",
    "\n",
    "    #in input graph each node has as features the concatenation of its fields \n",
    "    input_graph.add_node(\n",
    "        node_index, features=create_feature(node_feature, input_node_fields))\n",
    "\n",
    "    #in target graph each node has as features a one hot vector \n",
    "    target_node = to_one_hot(\n",
    "        create_feature(node_feature, target_node_fields).astype(int), 2)[0]\n",
    "    target_graph.add_node(node_index, features=target_node)\n",
    "\n",
    "    #keep track of the lenght of the shortest path \n",
    "    solution_length += int(node_feature[\"solution\"])\n",
    "  \n",
    "  solution_length /= graph.number_of_nodes()\n",
    "  \n",
    "  for sender, receiver, features in graph.edges(data=True):\n",
    "    \n",
    "    input_graph.add_edge(\n",
    "        sender, receiver, features=create_feature(features, input_edge_fields))\n",
    "    \n",
    "    # in the target graph each edge has as features a one hot vector\n",
    "    # if it does not belongs to the shortest path 'solution'=False -> [1,0]\n",
    "    # if it belongs to the shortest path 'solution'=True -> [0,1]\n",
    "    target_edge = to_one_hot(\n",
    "        create_feature(features, target_edge_fields).astype(int), 2)[0]\n",
    "    target_graph.add_edge(sender, receiver, features=target_edge)\n",
    "\n",
    "  input_graph.graph[\"features\"] = np.array([0.0])\n",
    "  target_graph.graph[\"features\"] = np.array([solution_length], dtype=float)\n",
    "\n",
    "  return input_graph, target_graph"
   ]
  },
  {
   "cell_type": "code",
   "execution_count": 110,
   "metadata": {},
   "outputs": [
    {
     "name": "stdout",
     "output_type": "stream",
     "text": [
      "0\n",
      "{'end': False,\n",
      " 'pos': [0.6477900064149638, 0.5696485123139942],\n",
      " 'solution': False,\n",
      " 'start': False,\n",
      " 'weight': 1.1808365414059072}\n",
      "[0.64779001 0.56964851 1.18083654 0.         0.        ]\n"
     ]
    }
   ],
   "source": [
    "def create_feature(attr, fields):\n",
    "    return np.hstack([np.array(attr[field], dtype=float) for field in fields])\n",
    "\n",
    "input_node_fields = (\"pos\", \"weight\", \"start\", \"end\")\n",
    "\n",
    "for i,j in combined_graph_short.nodes(data=True):\n",
    "    print(i)\n",
    "    pp.pprint(j)\n",
    "    print(create_feature(j, input_node_fields))\n",
    "    break\n",
    "\n",
    "# features 'pos' ,'weight', 'start' ,'end' are hstacked together"
   ]
  },
  {
   "cell_type": "code",
   "execution_count": 115,
   "metadata": {},
   "outputs": [
    {
     "name": "stdout",
     "output_type": "stream",
     "text": [
      "0\n",
      "{'end': False,\n",
      " 'pos': [0.6477900064149638, 0.5696485123139942],\n",
      " 'solution': False,\n",
      " 'start': False,\n",
      " 'weight': 1.1808365414059072}\n",
      "[0.]\n",
      "[1. 0.]\n"
     ]
    }
   ],
   "source": [
    "target_node_fields = (\"solution\",)\n",
    "\n",
    "for node_index,node_features in combined_graph_short.nodes(data=True):\n",
    "    print(node_index)\n",
    "    pp.pprint(node_features)\n",
    "    print(create_feature(node_features, target_node_fields))\n",
    "    print(to_one_hot(create_feature(node_features, target_node_fields).astype(int), 2)[0])\n",
    "    break\n"
   ]
  },
  {
   "cell_type": "code",
   "execution_count": 129,
   "metadata": {},
   "outputs": [
    {
     "name": "stdout",
     "output_type": "stream",
     "text": [
      "[[1. 0.]]\n",
      "[[0. 1.]]\n",
      "[0. 1.]\n",
      "[1. 0.]\n",
      "[1. 0. 0.]\n",
      "[0. 1. 0.]\n",
      "[0. 0. 1.]\n"
     ]
    }
   ],
   "source": [
    "print(to_one_hot([0],2))\n",
    "print(to_one_hot([1],2))\n",
    "print(to_one_hot(1,2))\n",
    "print(to_one_hot(0,2))\n",
    "print(to_one_hot(0,3))\n",
    "print(to_one_hot(1,3))\n",
    "print(to_one_hot(2,3))"
   ]
  },
  {
   "cell_type": "code",
   "execution_count": 163,
   "metadata": {},
   "outputs": [],
   "source": [
    "input_graph,target_graph=graph_to_input_target(combined_graph_short)"
   ]
  },
  {
   "cell_type": "code",
   "execution_count": null,
   "metadata": {},
   "outputs": [],
   "source": []
  }
 ],
 "metadata": {
  "interpreter": {
   "hash": "bff2f86cb060d798c12e3e1ad1b49fa4aed81f439e414222509aed9f9b8b5f97"
  },
  "kernelspec": {
   "display_name": "Python 3.9.6 64-bit",
   "language": "python",
   "name": "python3"
  },
  "language_info": {
   "codemirror_mode": {
    "name": "ipython",
    "version": 3
   },
   "file_extension": ".py",
   "mimetype": "text/x-python",
   "name": "python",
   "nbconvert_exporter": "python",
   "pygments_lexer": "ipython3",
   "version": "3.9.6"
  },
  "orig_nbformat": 4
 },
 "nbformat": 4,
 "nbformat_minor": 2
}
